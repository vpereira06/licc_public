{
 "cells": [
  {
   "cell_type": "markdown",
   "metadata": {},
   "source": [
    "# Exercícios Python\n",
    "\n",
    "## Estruturas de Repetição"
   ]
  },
  {
   "cell_type": "markdown",
   "metadata": {},
   "source": [
    "1. Faça um programa para calcular o fatorial de um número **n** obtido pelo input.\n",
    "2. Dados dois inteiros positivos calcular o máximo divisor comum entre eles usando o algoritmo de Euclides.\n",
    "3. Faça um programa para verificar se um número é primo.\n",
    "4. Escreva um programa para imprimir todos os quadrados (1, 4, 9, ...) menores que n\n",
    "5. Escreva um programa para imprimir todos os múltiplos de 10 menores que n\n"
   ]
  },
  {
   "cell_type": "code",
   "execution_count": null,
   "metadata": {
    "collapsed": true
   },
   "outputs": [],
   "source": []
  }
 ],
 "metadata": {
  "kernelspec": {
   "display_name": "Python 3",
   "language": "python",
   "name": "python3"
  },
  "language_info": {
   "codemirror_mode": {
    "name": "ipython",
    "version": 3
   },
   "file_extension": ".py",
   "mimetype": "text/x-python",
   "name": "python",
   "nbconvert_exporter": "python",
   "pygments_lexer": "ipython3",
   "version": "3.5.1"
  }
 },
 "nbformat": 4,
 "nbformat_minor": 1
}
