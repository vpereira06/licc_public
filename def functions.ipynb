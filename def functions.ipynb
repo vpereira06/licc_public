{
 "cells": [
  {
   "cell_type": "markdown",
   "metadata": {},
   "source": [
    "# Funções"
   ]
  },
  {
   "cell_type": "markdown",
   "metadata": {},
   "source": [
    "Funções são definidas com o uso da palavra reservada `def`. "
   ]
  },
  {
   "cell_type": "code",
   "execution_count": 2,
   "metadata": {},
   "outputs": [
    {
     "name": "stdout",
     "output_type": "stream",
     "text": [
      "Newton Calegari\n",
      "Newton Calegari\n",
      "Newton Calegari\n"
     ]
    }
   ],
   "source": [
    "def mostra_nome():\n",
    "    print('Newton Calegari')\n",
    "    \n",
    "mostra_nome()\n",
    "mostra_nome()\n",
    "mostra_nome()"
   ]
  },
  {
   "cell_type": "markdown",
   "metadata": {},
   "source": [
    "Uma função é executada somente quando ela é acionada.\n",
    "Para declarar uma função utilizamos **def** *nome_da_funcao()*, mas para aciona-las somente percisamos chamar pelo nome *nome_da_funcao()*.\n",
    "\n",
    "No contexto de programação, **função** é uma sequência nomeada de instruções ou comandos, que realizam uma oper- ação desejada. Esta operação é especificada numa **definição de função**."
   ]
  },
  {
   "cell_type": "markdown",
   "metadata": {},
   "source": [
    "A função pode ter qualquer nome que você escolher, mas não pode ter uma palavra reservada do Python.\n",
    "\n",
    "** Importante lembrar que todo o conteúdo da função, ou seja, as intruções que foram criadas dentro da função devem ser INDENDATAS**"
   ]
  },
  {
   "cell_type": "code",
   "execution_count": 3,
   "metadata": {
    "collapsed": true
   },
   "outputs": [],
   "source": [
    "def nome_da_minha_funcao():\n",
    "    numero = 10\n",
    "    soma = numero + 20\n",
    "    texto = input('Digite algum texto: ')\n",
    "    print(texto)"
   ]
  },
  {
   "cell_type": "markdown",
   "metadata": {},
   "source": [
    "### Usando Docstring para documentar as funções"
   ]
  },
  {
   "cell_type": "code",
   "execution_count": 6,
   "metadata": {
    "collapsed": true
   },
   "outputs": [],
   "source": [
    "def fatorial(n):\n",
    "    '''\n",
    "    Objetivo: Recebe um número inteiro e retorna o seu fatorial\n",
    "    Parâmetros de entrada: n (int)\n",
    "    Retorno: fat (int)\n",
    "    Pré-condição: numero n é inteiro e positivo.\n",
    "    '''\n",
    "    # em seguida vem o código para o cálculo do fatorial.\n",
    "    \n",
    "    return fat"
   ]
  },
  {
   "cell_type": "markdown",
   "metadata": {},
   "source": [
    "### Funções frutíferas\n",
    "\n",
    "As funções frutíferas são as que retornam algum valor, ou seja, que possuem o a instrução **`return`**."
   ]
  },
  {
   "cell_type": "markdown",
   "metadata": {},
   "source": [
    "As funções que não retornam nenhum valor são chamadas, em alguns contextos, de **procedimentos**."
   ]
  },
  {
   "cell_type": "markdown",
   "metadata": {},
   "source": [
    "### Escopo das variáveis nas funções"
   ]
  },
  {
   "cell_type": "markdown",
   "metadata": {},
   "source": [
    "As variáveis utilizadas dentro de um função possuem seu escopo restrito à execução da função. Ou seja, ela é válida somente no escopo da função."
   ]
  },
  {
   "cell_type": "code",
   "execution_count": 31,
   "metadata": {},
   "outputs": [
    {
     "name": "stdout",
     "output_type": "stream",
     "text": [
      "Newton\n"
     ]
    }
   ],
   "source": [
    "nome = \"Newton\"\n",
    "\n",
    "def mostra_nome():\n",
    "    nome = \"Calegari\"\n",
    "    print(id(nome))\n",
    "\n",
    "print(nome)"
   ]
  },
  {
   "cell_type": "markdown",
   "metadata": {},
   "source": [
    "## Exercícios"
   ]
  },
  {
   "cell_type": "markdown",
   "metadata": {},
   "source": [
    "- Faça um programa que receba a partir de `input` o nome e o salário dos funcionários de uma empresa para exibi-los na tela juntamente com a alíquota e valor de IRPF. Ex:\n",
    "\n",
    "```\n",
    "        Funcionário(a)     Salário         Alíquota    IR\n",
    "        Warren Buffet      R$ 3980,00      22,5%       R$ 995,00```\n",
    "\n",
    "- Faça uma função que receba como entrada um salário e devolva o valor da alíquota do IRPF de acordo com os critérios abaixo:\n",
    "\n",
    "    - Até 1.903,98 - isento\n",
    "    - De 1.903,99 até 2.826,65 - Aliquota de 7,5%\n",
    "    - De 2.826,66 até 3.751,05 - Aliquota de 15%\n",
    "    - De 3.751,06 até 4.664,68 - Aliquota de 22,5%\n",
    "    - Acima de 4.664,68 - Aliquota de 27,5%\n"
   ]
  },
  {
   "cell_type": "markdown",
   "metadata": {},
   "source": []
  },
  {
   "cell_type": "code",
   "execution_count": 1,
   "metadata": {},
   "outputs": [
    {
     "name": "stdout",
     "output_type": "stream",
     "text": [
      "Nome: Pessoa\n",
      "Salario: 1980\n",
      "Nome            Salario    Aliquota   IR    \n",
      "Pessoa          1980.0     0.075      148.5 \n"
     ]
    }
   ],
   "source": [
    "def ver_aliquota(salario):\n",
    "    if salario < 1903.98:\n",
    "        aliquota = 0\n",
    "    elif 1903.99 < salario < 2826.65:\n",
    "        aliquota = 0.075\n",
    "    elif 2826.66 < salario < 3751.05:\n",
    "        aliquota = 0.15\n",
    "    elif 3751.06 < salario < 4664.68:\n",
    "        aliquota = 0.225\n",
    "    else:\n",
    "        aliquota = 0.275\n",
    "\n",
    "    return aliquota\n",
    "\n",
    "def print_alinhado(a, b, c, d):\n",
    "    print('{:<15} {:<10} {:<10} {:<6}'.format(a, b, c, d))\n",
    "\n",
    "\n",
    "nome = input('Nome: ')\n",
    "salario = float(input('Salario: '))\n",
    "aliquota = ver_aliquota(salario)\n",
    "ir = salario * aliquota\n",
    "\n",
    "print_alinhado('Nome', 'Salario', 'Aliquota', 'IR')\n",
    "print_alinhado(nome, salario, aliquota, ir)"
   ]
  },
  {
   "cell_type": "code",
   "execution_count": null,
   "metadata": {},
   "outputs": [],
   "source": []
  }
 ],
 "metadata": {
  "kernelspec": {
   "display_name": "Python 3",
   "language": "python",
   "name": "python3"
  },
  "language_info": {
   "codemirror_mode": {
    "name": "ipython",
    "version": 3
   },
   "file_extension": ".py",
   "mimetype": "text/x-python",
   "name": "python",
   "nbconvert_exporter": "python",
   "pygments_lexer": "ipython3",
   "version": "3.7.1"
  }
 },
 "nbformat": 4,
 "nbformat_minor": 1
}
