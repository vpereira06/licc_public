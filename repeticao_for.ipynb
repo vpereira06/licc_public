{
 "cells": [
  {
   "cell_type": "markdown",
   "metadata": {},
   "source": [
    "# Estruturas de repetição: for"
   ]
  },
  {
   "cell_type": "markdown",
   "metadata": {},
   "source": [
    "Conteúdo:\n",
    "- Repetição com `for i in range()`\n",
    "- Repetição com `for c in \"string\"`\n",
    "- Tipo **String** e comprimento `len()`"
   ]
  },
  {
   "cell_type": "markdown",
   "metadata": {},
   "source": [
    "Diferentemente do loop com `while`, que depende necessariamente de uma condição, o loop com `for` gera uma repetição por um número definido de vezes."
   ]
  },
  {
   "cell_type": "code",
   "execution_count": null,
   "metadata": {},
   "outputs": [],
   "source": [
    "# exemplo de funcionamento de loop while\n",
    "while condição == True:\n",
    "    print('repete até que condição seja falsa')"
   ]
  },
  {
   "cell_type": "markdown",
   "metadata": {},
   "source": [
    "O loop `for` gera a repetição por um número N de vezes."
   ]
  },
  {
   "cell_type": "code",
   "execution_count": 15,
   "metadata": {},
   "outputs": [
    {
     "name": "stdout",
     "output_type": "stream",
     "text": [
      "0 1 2 3 4 5 6 7 8 9 "
     ]
    }
   ],
   "source": [
    "for i in range(10):\n",
    "    print(i)"
   ]
  },
  {
   "cell_type": "code",
   "execution_count": 14,
   "metadata": {},
   "outputs": [
    {
     "name": "stdout",
     "output_type": "stream",
     "text": [
      "1 2 3 4 5 6 7 8 "
     ]
    }
   ],
   "source": [
    "for i in range(1, 9):\n",
    "    print(i)"
   ]
  },
  {
   "cell_type": "code",
   "execution_count": 13,
   "metadata": {},
   "outputs": [
    {
     "name": "stdout",
     "output_type": "stream",
     "text": [
      "1 3 5 7 9 "
     ]
    }
   ],
   "source": [
    "for i in range(1, 10, 2):\n",
    "    print(i)"
   ]
  },
  {
   "cell_type": "code",
   "execution_count": 7,
   "metadata": {},
   "outputs": [
    {
     "name": "stdout",
     "output_type": "stream",
     "text": [
      "10 15 20 25 30 35 40 45 50 55 60 65 70 75 80 85 90 95 "
     ]
    }
   ],
   "source": [
    "inicio = 10\n",
    "fim = 100\n",
    "passo = 5\n",
    "\n",
    "for i in range(inicio, fim, passo):\n",
    "    print(i)"
   ]
  },
  {
   "cell_type": "code",
   "execution_count": 20,
   "metadata": {
    "scrolled": false
   },
   "outputs": [
    {
     "name": "stdout",
     "output_type": "stream",
     "text": [
      "1 * 1 = 1 \t\n",
      "1 * 2 = 2 \t\n",
      "1 * 3 = 3 \t\n",
      "1 * 4 = 4 \t\n",
      "1 * 5 = 5 \t\n",
      "1 * 6 = 6 \t\n",
      "1 * 7 = 7 \t\n",
      "1 * 8 = 8 \t\n",
      "1 * 9 = 9 \t\n",
      "1 * 10 = 10 \t\n",
      "\n",
      "\n",
      "2 * 1 = 2 \t\n",
      "2 * 2 = 4 \t\n",
      "2 * 3 = 6 \t\n",
      "2 * 4 = 8 \t\n",
      "2 * 5 = 10 \t\n",
      "2 * 6 = 12 \t\n",
      "2 * 7 = 14 \t\n",
      "2 * 8 = 16 \t\n",
      "2 * 9 = 18 \t\n",
      "2 * 10 = 20 \t\n",
      "\n",
      "\n",
      "3 * 1 = 3 \t\n",
      "3 * 2 = 6 \t\n",
      "3 * 3 = 9 \t\n",
      "3 * 4 = 12 \t\n",
      "3 * 5 = 15 \t\n",
      "3 * 6 = 18 \t\n",
      "3 * 7 = 21 \t\n",
      "3 * 8 = 24 \t\n",
      "3 * 9 = 27 \t\n",
      "3 * 10 = 30 \t\n",
      "\n",
      "\n",
      "4 * 1 = 4 \t\n",
      "4 * 2 = 8 \t\n",
      "4 * 3 = 12 \t\n",
      "4 * 4 = 16 \t\n",
      "4 * 5 = 20 \t\n",
      "4 * 6 = 24 \t\n",
      "4 * 7 = 28 \t\n",
      "4 * 8 = 32 \t\n",
      "4 * 9 = 36 \t\n",
      "4 * 10 = 40 \t\n",
      "\n",
      "\n",
      "5 * 1 = 5 \t\n",
      "5 * 2 = 10 \t\n",
      "5 * 3 = 15 \t\n",
      "5 * 4 = 20 \t\n",
      "5 * 5 = 25 \t\n",
      "5 * 6 = 30 \t\n",
      "5 * 7 = 35 \t\n",
      "5 * 8 = 40 \t\n",
      "5 * 9 = 45 \t\n",
      "5 * 10 = 50 \t\n",
      "\n",
      "\n",
      "6 * 1 = 6 \t\n",
      "6 * 2 = 12 \t\n",
      "6 * 3 = 18 \t\n",
      "6 * 4 = 24 \t\n",
      "6 * 5 = 30 \t\n",
      "6 * 6 = 36 \t\n",
      "6 * 7 = 42 \t\n",
      "6 * 8 = 48 \t\n",
      "6 * 9 = 54 \t\n",
      "6 * 10 = 60 \t\n",
      "\n",
      "\n",
      "7 * 1 = 7 \t\n",
      "7 * 2 = 14 \t\n",
      "7 * 3 = 21 \t\n",
      "7 * 4 = 28 \t\n",
      "7 * 5 = 35 \t\n",
      "7 * 6 = 42 \t\n",
      "7 * 7 = 49 \t\n",
      "7 * 8 = 56 \t\n",
      "7 * 9 = 63 \t\n",
      "7 * 10 = 70 \t\n",
      "\n",
      "\n",
      "8 * 1 = 8 \t\n",
      "8 * 2 = 16 \t\n",
      "8 * 3 = 24 \t\n",
      "8 * 4 = 32 \t\n",
      "8 * 5 = 40 \t\n",
      "8 * 6 = 48 \t\n",
      "8 * 7 = 56 \t\n",
      "8 * 8 = 64 \t\n",
      "8 * 9 = 72 \t\n",
      "8 * 10 = 80 \t\n",
      "\n",
      "\n",
      "9 * 1 = 9 \t\n",
      "9 * 2 = 18 \t\n",
      "9 * 3 = 27 \t\n",
      "9 * 4 = 36 \t\n",
      "9 * 5 = 45 \t\n",
      "9 * 6 = 54 \t\n",
      "9 * 7 = 63 \t\n",
      "9 * 8 = 72 \t\n",
      "9 * 9 = 81 \t\n",
      "9 * 10 = 90 \t\n",
      "\n",
      "\n",
      "10 * 1 = 10 \t\n",
      "10 * 2 = 20 \t\n",
      "10 * 3 = 30 \t\n",
      "10 * 4 = 40 \t\n",
      "10 * 5 = 50 \t\n",
      "10 * 6 = 60 \t\n",
      "10 * 7 = 70 \t\n",
      "10 * 8 = 80 \t\n",
      "10 * 9 = 90 \t\n",
      "10 * 10 = 100 \t\n",
      "\n",
      "\n"
     ]
    }
   ],
   "source": [
    "for i in range(1, 11):\n",
    "    for j in range(1, 11):\n",
    "        print('{} * {} = {} \\t'.format(i, j, i*j))"
   ]
  },
  {
   "cell_type": "code",
   "execution_count": 1,
   "metadata": {},
   "outputs": [
    {
     "name": "stdout",
     "output_type": "stream",
     "text": [
      "10 9 8 7 6 5 4 3 2 1 "
     ]
    }
   ],
   "source": [
    "for i in range(10, 0, -1):\n",
    "    print(i)"
   ]
  },
  {
   "cell_type": "code",
   "execution_count": 11,
   "metadata": {},
   "outputs": [
    {
     "name": "stdout",
     "output_type": "stream",
     "text": [
      "p\n",
      "a\n",
      "l\n",
      "a\n",
      "v\n",
      "r\n",
      "a\n"
     ]
    }
   ],
   "source": [
    "for letra in 'palavra':\n",
    "    print(letra)"
   ]
  },
  {
   "cell_type": "markdown",
   "metadata": {},
   "source": [
    "Como saber o tamanho de uma **String**?"
   ]
  },
  {
   "cell_type": "code",
   "execution_count": 13,
   "metadata": {},
   "outputs": [
    {
     "data": {
      "text/plain": [
       "6"
      ]
     },
     "execution_count": 13,
     "metadata": {},
     "output_type": "execute_result"
    }
   ],
   "source": [
    "len('Newton')"
   ]
  },
  {
   "cell_type": "code",
   "execution_count": 18,
   "metadata": {},
   "outputs": [
    {
     "name": "stdout",
     "output_type": "stream",
     "text": [
      "O comprimento da frase é 58\n"
     ]
    }
   ],
   "source": [
    "frase = 'O scrum é uma metodologia para desenvolvimento de software'\n",
    "tamanho = len(frase)\n",
    "\n",
    "print('O comprimento da frase é', tamanho)"
   ]
  },
  {
   "cell_type": "markdown",
   "metadata": {},
   "source": [
    "## Imprimindo tabelas"
   ]
  },
  {
   "cell_type": "code",
   "execution_count": 31,
   "metadata": {},
   "outputs": [
    {
     "name": "stdout",
     "output_type": "stream",
     "text": [
      "n\t n2\t n3\t n4\n",
      "0\t 0\t 0\t 0\n",
      "1\t 1\t 1\t 1\n",
      "2\t 4\t 8\t 16\n",
      "3\t 9\t 27\t 81\n",
      "4\t 16\t 64\t 256\n",
      "5\t 25\t 125\t 625\n",
      "6\t 36\t 216\t 1296\n",
      "7\t 49\t 343\t 2401\n",
      "8\t 64\t 512\t 4096\n",
      "9\t 81\t 729\t 6561\n",
      "10\t 100\t 1000\t 10000\n"
     ]
    }
   ],
   "source": [
    "print('{}\\t {}\\t {}\\t {}'.format('n', 'n2', 'n3', 'n4'))\n",
    "for i in range(11):\n",
    "    print('{}\\t {}\\t {}\\t {}'.format(i, i**2, i**3, i**4))"
   ]
  },
  {
   "cell_type": "markdown",
   "metadata": {},
   "source": [
    "Para fazer a tabulação entre uma coluna e outra é bem simples: só utilizar `\\t` no `print`"
   ]
  },
  {
   "cell_type": "markdown",
   "metadata": {},
   "source": [
    "# Exercícios"
   ]
  },
  {
   "cell_type": "markdown",
   "metadata": {},
   "source": [
    "1. Desenvolva um script para mostrar todos os números pares e seus respectivos valores ao quadrado menores que 100.\n",
    "2. Faça um programa que mostre o resultado final da soma de todos os números ímpares entre 100 e 500.\n",
    "3. Faça um programa que leia 5 números e informe a soma e a média dos números. \n",
    "4. O Sr. Manoel Joaquim possui uma grande loja de artigos de R\\$ 1,99, com cerca de 10 caixas. Para agilizar o cálculo de quanto cada cliente deve pagar ele desenvolveu um tabela que contém o número de itens que o cliente comprou e ao lado o valor da conta. Desta forma a atendente do caixa precisa apenas contar quantos itens o cliente está levando e olhar na tabela de preços. Você foi contratado para desenvolver o programa que monta esta tabela de preços, que conterá os preços de 1 até 50 produtos, conforme o exemplo abaixo: \n",
    "<pre>\n",
    "Lojas Quase Dois - Tabela de preços\n",
    "1 - R$ 1.99\n",
    "2 - R$ 3.98\n",
    "...\n",
    "50 - R$ 99.50</pre>\n",
    "\n",
    "5. Faça um programa que leia uma frase digitada pelo usuário e imprima essa frase ao contrário.\n",
    "<pre>A aula de hoje acabará tarde\n",
    "edrat árabaca ejoh ed alua A\n",
    "</pre>"
   ]
  },
  {
   "cell_type": "code",
   "execution_count": 53,
   "metadata": {},
   "outputs": [
    {
     "name": "stdout",
     "output_type": "stream",
     "text": [
      "p\n",
      "a\n",
      "l\n",
      "a\n",
      "v\n",
      "r\n",
      "a\n"
     ]
    }
   ],
   "source": [
    "for i in 'palavra':\n",
    "    print(i)"
   ]
  },
  {
   "cell_type": "code",
   "execution_count": null,
   "metadata": {},
   "outputs": [],
   "source": []
  }
 ],
 "metadata": {
  "kernelspec": {
   "display_name": "Python 3",
   "language": "python",
   "name": "python3"
  },
  "language_info": {
   "codemirror_mode": {
    "name": "ipython",
    "version": 3
   },
   "file_extension": ".py",
   "mimetype": "text/x-python",
   "name": "python",
   "nbconvert_exporter": "python",
   "pygments_lexer": "ipython3",
   "version": "3.7.2"
  }
 },
 "nbformat": 4,
 "nbformat_minor": 2
}
